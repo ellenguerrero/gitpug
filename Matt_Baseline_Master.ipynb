{
 "cells": [
  {
   "cell_type": "code",
   "execution_count": null,
   "metadata": {},
   "outputs": [],
   "source": [
    "%matplotlib inline\n",
    "# Import Dependencies\n",
    "import pandas as pd\n",
    "import numpy as np\n",
    "from datetime import datetime\n",
    "import matplotlib.pyplot as plt\n",
    "\n",
    "# Read the CSV into a Pandas DataFrame\n",
    "intake_csv = \"Resources/Austin_Animal_Center_Intakes.csv\"\n",
    "outcome_csv= \"Resources/Austin_Animal_Center_Outcomes.csv\"\n",
    "\n",
    "intake_df = pd.read_csv(intake_csv)\n",
    "outcome_df = pd.read_csv(outcome_csv)\n",
    "\n",
    "#convert date variable to datetime format\n",
    "\n",
    "intake_df['DateTime'] = pd.to_datetime(intake_df['DateTime']).dt.date\n",
    "outcome_df['DateTime'] = pd.to_datetime(outcome_df['DateTime']).dt.date\n",
    "\n",
    "#update intake file with column reflecting number of intakes\n",
    "#and select outcomes for animals with 1 or 2 intakes\n",
    "intake_counts=intake_df.groupby(['Animal ID']).size().reset_index(name='counts')\n",
    "intake_df=pd.merge(intake_df, intake_counts, on=\"Animal ID\", how=\"outer\")\n",
    "reduced_intake_df=intake_df.query('counts <3')\n",
    "\n",
    "#update outtake file with column reflecting number of intakes per animal\n",
    "#and select outcomes for animals with 1 or 2 intakes\n",
    "outcome_df=pd.merge(outcome_df, intake_counts, on=\"Animal ID\", how=\"left\")\n",
    "reduced_outcome_df=outcome_df.query('counts <3')\n",
    "#reduced_outcome_df=reduced_outcome_df.drop(columns=['counts'])"
   ]
  },
  {
   "cell_type": "code",
   "execution_count": null,
   "metadata": {},
   "outputs": [],
   "source": [
    "outcome_df"
   ]
  },
  {
   "cell_type": "code",
   "execution_count": null,
   "metadata": {},
   "outputs": [],
   "source": [
    "reduced_outcome_df"
   ]
  },
  {
   "cell_type": "code",
   "execution_count": null,
   "metadata": {},
   "outputs": [],
   "source": [
    "#now take single intake animals and match with any available outcome\n",
    "reduced_intake_only_one_df=reduced_intake_df.query('counts <2')\n",
    "#reduced_intake_only_one_df=reduced_intake_only_one_df.add_prefix('IN_')\n",
    "reduced_outcome_df=reduced_outcome_df.add_prefix(\"OUT_\")\n",
    "\n",
    "reduced_intake_only_one_df=reduced_intake_only_one_df.rename(index=str,columns={\"IN_Animal ID\": \"Animal ID\"})\n",
    "reduced_outcome_df=reduced_outcome_df.rename(index=str,columns={\"OUT_Animal ID\": \"Animal ID\"})\n",
    "one_intake_merged=pd.merge(reduced_intake_only_one_df, reduced_outcome_df, on=\"Animal ID\", how=\"left\")"
   ]
  },
  {
   "cell_type": "code",
   "execution_count": null,
   "metadata": {},
   "outputs": [],
   "source": [
    "one_intake_merged[\"num_of_intakes_for_ID\"]=1"
   ]
  },
  {
   "cell_type": "code",
   "execution_count": null,
   "metadata": {},
   "outputs": [],
   "source": [
    "#now take two intake animals and figure out order of intakes and outcomes\n",
    "reduced_intake_two_df=reduced_intake_df.query('counts !=1')\n"
   ]
  },
  {
   "cell_type": "code",
   "execution_count": null,
   "metadata": {},
   "outputs": [],
   "source": [
    "reduced_intake_two_first_date_lookup_df=reduced_intake_two_df.groupby('Animal ID').aggregate(['min']).reset_index()\n",
    "reduced_intake_two_first_date_lookup_df = reduced_intake_two_first_date_lookup_df[['Animal ID','DateTime']]\n",
    "reduced_intake_two_first_date_lookup_df[\"stay_number\"]=1\n",
    "reduced_intake_two_first_date_lookup_df.columns = reduced_intake_two_first_date_lookup_df.columns.droplevel(1)\n",
    "\n",
    "\n",
    "reduced_intake_two_first_date_lookup_df.head()"
   ]
  },
  {
   "cell_type": "code",
   "execution_count": null,
   "metadata": {},
   "outputs": [],
   "source": [
    "reduced_intake_two_second_date_lookup_df=reduced_intake_two_df.groupby('Animal ID').aggregate(['max']).reset_index()\n",
    "reduced_intake_two_second_date_lookup_df = reduced_intake_two_second_date_lookup_df[['Animal ID','DateTime']]\n",
    "reduced_intake_two_second_date_lookup_df[\"stay_number\"]=2\n",
    "reduced_intake_two_second_date_lookup_df.columns = reduced_intake_two_second_date_lookup_df.columns.droplevel(1)"
   ]
  },
  {
   "cell_type": "code",
   "execution_count": null,
   "metadata": {},
   "outputs": [],
   "source": [
    "reduced_intake_two_second_date_lookup_df.head()"
   ]
  },
  {
   "cell_type": "code",
   "execution_count": null,
   "metadata": {},
   "outputs": [],
   "source": [
    "multiple_intakes_order_lookup = reduced_intake_two_first_date_lookup_df.append(reduced_intake_two_second_date_lookup_df)"
   ]
  },
  {
   "cell_type": "code",
   "execution_count": null,
   "metadata": {},
   "outputs": [],
   "source": [
    "#multiple_intakes_order_lookup"
   ]
  },
  {
   "cell_type": "code",
   "execution_count": null,
   "metadata": {},
   "outputs": [],
   "source": [
    "#reduced_intake_two_df\n",
    "\n",
    "reduced_intake_two_df=pd.merge(reduced_intake_two_df, multiple_intakes_order_lookup, on=[\"Animal ID\",\"DateTime\"], how=\"left\")\n",
    "#reduced_intake_two_df"
   ]
  },
  {
   "cell_type": "code",
   "execution_count": null,
   "metadata": {},
   "outputs": [],
   "source": [
    "#look at outcome records for the two-intake group and determine order"
   ]
  },
  {
   "cell_type": "code",
   "execution_count": null,
   "metadata": {},
   "outputs": [],
   "source": [
    "#reduced_outcome_df"
   ]
  },
  {
   "cell_type": "code",
   "execution_count": null,
   "metadata": {},
   "outputs": [],
   "source": [
    "\n",
    "reduced_outcome_two_first_date_lookup_df=reduced_outcome_df.groupby('Animal ID').aggregate(['min']).reset_index()\n",
    "reduced_outcome_two_first_date_lookup_df = reduced_outcome_two_first_date_lookup_df[['Animal ID','OUT_DateTime']]\n",
    "reduced_outcome_two_first_date_lookup_df[\"stay_number\"]=1\n",
    "reduced_outcome_two_first_date_lookup_df.columns = reduced_outcome_two_first_date_lookup_df.columns.droplevel(1)\n",
    "\n",
    "\n",
    "reduced_outcome_two_first_date_lookup_df.head()"
   ]
  },
  {
   "cell_type": "code",
   "execution_count": null,
   "metadata": {},
   "outputs": [],
   "source": [
    "reduced_outcome_df=pd.merge(reduced_outcome_df, reduced_outcome_two_first_date_lookup_df, on=[\"Animal ID\",\"OUT_DateTime\"], how=\"left\")\n",
    "\n",
    "reduced_outcome_df"
   ]
  },
  {
   "cell_type": "code",
   "execution_count": null,
   "metadata": {},
   "outputs": [],
   "source": [
    "reduced_outcome_df['stay_number']=reduced_outcome_df['stay_number'].fillna(2)\n",
    "#reduced_outcome_df"
   ]
  },
  {
   "cell_type": "code",
   "execution_count": null,
   "metadata": {},
   "outputs": [],
   "source": [
    "#reduced_intake_two_df=reduced_intake_two_df.add_prefix('IN_')\n",
    "reduced_intake_two_df=reduced_intake_two_df.rename(index=str,columns={\"IN_Animal ID\": \"Animal ID\",\"IN_stay_number\":\"stay_number\"})\n",
    "reduced_intake_two_df"
   ]
  },
  {
   "cell_type": "code",
   "execution_count": null,
   "metadata": {},
   "outputs": [],
   "source": [
    "#merge the multiple intake with coressponsing outcomes - will not yield two outcomes for animals still in residence\n",
    "two_intakes_merged=pd.merge(reduced_intake_two_df, reduced_outcome_df, on=[\"Animal ID\", \"stay_number\"], how=\"left\")\n",
    "two_intakes_merged[\"num_of_intakes_for_ID\"]=\"2\""
   ]
  },
  {
   "cell_type": "code",
   "execution_count": null,
   "metadata": {},
   "outputs": [],
   "source": [
    "two_intakes_merged"
   ]
  },
  {
   "cell_type": "code",
   "execution_count": null,
   "metadata": {},
   "outputs": [],
   "source": [
    "one_intake_merged"
   ]
  },
  {
   "cell_type": "code",
   "execution_count": null,
   "metadata": {},
   "outputs": [],
   "source": [
    "working_base_master=one_intake_merged.append(two_intakes_merged, ignore_index=True)"
   ]
  },
  {
   "cell_type": "code",
   "execution_count": null,
   "metadata": {
    "scrolled": false
   },
   "outputs": [],
   "source": [
    "working_base_master.head()"
   ]
  },
  {
   "cell_type": "code",
   "execution_count": null,
   "metadata": {},
   "outputs": [],
   "source": [
    "working_base_master['time_to_exit'] = working_base_master['OUT_DateTime']-working_base_master['DateTime']"
   ]
  },
  {
   "cell_type": "code",
   "execution_count": null,
   "metadata": {},
   "outputs": [],
   "source": [
    "working_base_master['time_to_exit']=working_base_master['time_to_exit'] / np.timedelta64(1, 'D')"
   ]
  },
  {
   "cell_type": "code",
   "execution_count": null,
   "metadata": {},
   "outputs": [],
   "source": [
    "working_base_master['time_to_exit'].dtype"
   ]
  },
  {
   "cell_type": "code",
   "execution_count": null,
   "metadata": {},
   "outputs": [],
   "source": [
    "working_base_master.head()"
   ]
  },
  {
   "cell_type": "code",
   "execution_count": null,
   "metadata": {},
   "outputs": [],
   "source": [
    "############################"
   ]
  },
  {
   "cell_type": "code",
   "execution_count": null,
   "metadata": {},
   "outputs": [],
   "source": [
    "#Discover maximum time_to_exit\n",
    "working_base_master[\"time_to_exit\"].max()"
   ]
  },
  {
   "cell_type": "code",
   "execution_count": null,
   "metadata": {},
   "outputs": [],
   "source": [
    "#Remove all time_to_exit negative values\n",
    "test_df = working_base_master[working_base_master['time_to_exit'].between(0, 2000)]\n",
    "test_df"
   ]
  },
  {
   "cell_type": "code",
   "execution_count": null,
   "metadata": {},
   "outputs": [],
   "source": [
    "#filter to only include Owner Surrender and Stray\n",
    "test_df = test_df[test_df['Intake Type'].isin([\"Owner Surrender\", \"Stray\"])]\n",
    "test_df"
   ]
  },
  {
   "cell_type": "code",
   "execution_count": null,
   "metadata": {
    "scrolled": true
   },
   "outputs": [],
   "source": [
    "#filter to only normal intake type\n",
    "test_df = test_df.loc[test_df[\"Intake Condition\"] == \"Normal\", :]\n",
    "\n",
    "test_df.head()"
   ]
  },
  {
   "cell_type": "code",
   "execution_count": null,
   "metadata": {},
   "outputs": [],
   "source": [
    "#Create dataframe of named pets at outcome by dropping no names\n",
    "name_df = test_df[test_df['OUT_Name'].notnull()]\n",
    "name_df"
   ]
  },
  {
   "cell_type": "code",
   "execution_count": null,
   "metadata": {},
   "outputs": [],
   "source": [
    "#Display value counts for dataframe\n",
    "name_df[\"OUT_Outcome Type\"].value_counts()"
   ]
  },
  {
   "cell_type": "code",
   "execution_count": null,
   "metadata": {
    "scrolled": true
   },
   "outputs": [],
   "source": [
    "#Confirm NaN values removed\n",
    "name_df[\"OUT_Name\"].value_counts()"
   ]
  },
  {
   "cell_type": "code",
   "execution_count": null,
   "metadata": {},
   "outputs": [],
   "source": [
    "#filter out outcome types besides adoption, transfer or Return to Owner\n",
    "name_df = name_df[name_df['OUT_Outcome Type'].isin([\"Adoption\", \"Return to Owner\", \"Transfer\"])]\n",
    "name_df"
   ]
  },
  {
   "cell_type": "code",
   "execution_count": null,
   "metadata": {},
   "outputs": [],
   "source": [
    "#Confirm all outcome types removed besides adoption, transfer or Return to Owner\n",
    "name_df[\"OUT_Outcome Type\"].value_counts()"
   ]
  },
  {
   "cell_type": "code",
   "execution_count": null,
   "metadata": {},
   "outputs": [],
   "source": [
    "#Fill outcome subtypes with NaN to None\n",
    "name_df = name_df = name_df.fillna({'OUT_Outcome Subtype':'None'})"
   ]
  },
  {
   "cell_type": "code",
   "execution_count": null,
   "metadata": {},
   "outputs": [],
   "source": [
    "#See what adoption subtypes remain\n",
    "name_df[\"OUT_Outcome Subtype\"].value_counts()"
   ]
  },
  {
   "cell_type": "code",
   "execution_count": null,
   "metadata": {},
   "outputs": [],
   "source": [
    "#Filter data subtypes to remove foster and barn\n",
    "name_df = name_df[name_df['OUT_Outcome Subtype'].isin([\"None\", \"Partner\", \"SCRP\", \"Snr\"])]\n",
    "name_df"
   ]
  },
  {
   "cell_type": "code",
   "execution_count": null,
   "metadata": {},
   "outputs": [],
   "source": [
    "#See what adoption subtypes remain\n",
    "name_df[\"OUT_Outcome Subtype\"].value_counts()"
   ]
  },
  {
   "cell_type": "code",
   "execution_count": null,
   "metadata": {},
   "outputs": [],
   "source": [
    "#See what adoption types remain\n",
    "name_df[\"OUT_Outcome Type\"].value_counts()"
   ]
  },
  {
   "cell_type": "code",
   "execution_count": null,
   "metadata": {},
   "outputs": [],
   "source": [
    "#total outcome types (named)\n",
    "name_all_count = name_df[\"OUT_Outcome Type\"].count()\n",
    "name_all_count"
   ]
  },
  {
   "cell_type": "code",
   "execution_count": null,
   "metadata": {},
   "outputs": [],
   "source": [
    "name_adoption = (name_df.loc[name_df[\"OUT_Outcome Type\"] == \"Adoption\", :])"
   ]
  },
  {
   "cell_type": "code",
   "execution_count": null,
   "metadata": {},
   "outputs": [],
   "source": [
    "#count of adopted (named)\n",
    "name_adoption_count = name_adoption[\"OUT_Outcome Type\"].count()\n",
    "name_adoption_count"
   ]
  },
  {
   "cell_type": "code",
   "execution_count": null,
   "metadata": {},
   "outputs": [],
   "source": [
    "name_transfer = (name_df.loc[name_df[\"OUT_Outcome Type\"] == \"Transfer\", :])"
   ]
  },
  {
   "cell_type": "code",
   "execution_count": null,
   "metadata": {},
   "outputs": [],
   "source": [
    "#count of transfered (named)\n",
    "name_transfer_count = name_transfer[\"OUT_Outcome Type\"].count()\n",
    "name_transfer_count"
   ]
  },
  {
   "cell_type": "code",
   "execution_count": null,
   "metadata": {},
   "outputs": [],
   "source": [
    "name_return_to_owner = (name_df.loc[name_df[\"OUT_Outcome Type\"] == \"Return to Owner\", :])"
   ]
  },
  {
   "cell_type": "code",
   "execution_count": null,
   "metadata": {},
   "outputs": [],
   "source": [
    "#count of returned to owner (named)\n",
    "name_return_to_owner_count = name_return_to_owner[\"OUT_Outcome Type\"].count()\n",
    "name_return_to_owner_count"
   ]
  },
  {
   "cell_type": "code",
   "execution_count": null,
   "metadata": {},
   "outputs": [],
   "source": [
    "name_pct_adopted = name_adoption_count/name_all_count\n",
    "name_pct_adopted"
   ]
  },
  {
   "cell_type": "code",
   "execution_count": null,
   "metadata": {},
   "outputs": [],
   "source": [
    "name_per_capita_adopted = name_pct_adopted * 100\n",
    "name_per_capita_adopted"
   ]
  },
  {
   "cell_type": "code",
   "execution_count": null,
   "metadata": {},
   "outputs": [],
   "source": [
    "name_pct_transfer = name_transfer_count/name_all_count\n",
    "name_pct_transfer"
   ]
  },
  {
   "cell_type": "code",
   "execution_count": null,
   "metadata": {},
   "outputs": [],
   "source": [
    "name_per_capita_transfer = name_pct_transfer * 100\n",
    "name_per_capita_transfer"
   ]
  },
  {
   "cell_type": "code",
   "execution_count": null,
   "metadata": {},
   "outputs": [],
   "source": [
    "name_pct_return_to_owner = name_return_to_owner_count/name_all_count\n",
    "name_pct_return_to_owner"
   ]
  },
  {
   "cell_type": "code",
   "execution_count": null,
   "metadata": {},
   "outputs": [],
   "source": [
    "name_per_capita_return_to_owner = name_pct_return_to_owner * 100\n",
    "name_per_capita_return_to_owner"
   ]
  },
  {
   "cell_type": "code",
   "execution_count": null,
   "metadata": {},
   "outputs": [],
   "source": [
    "######################"
   ]
  },
  {
   "cell_type": "code",
   "execution_count": null,
   "metadata": {},
   "outputs": [],
   "source": [
    "test_df.head()"
   ]
  },
  {
   "cell_type": "code",
   "execution_count": null,
   "metadata": {},
   "outputs": [],
   "source": [
    "no_name_df = test_df.fillna({'OUT_Name':'None'})"
   ]
  },
  {
   "cell_type": "code",
   "execution_count": null,
   "metadata": {},
   "outputs": [],
   "source": [
    "#Create dataframe of unnamed pets at outcome by filtering to just none\n",
    "no_name_df = no_name_df.loc[no_name_df[\"OUT_Name\"] == \"None\", :]\n",
    "\n",
    "no_name_df.head()"
   ]
  },
  {
   "cell_type": "code",
   "execution_count": null,
   "metadata": {},
   "outputs": [],
   "source": [
    "no_name_df[\"OUT_Outcome Type\"].value_counts()"
   ]
  },
  {
   "cell_type": "code",
   "execution_count": null,
   "metadata": {
    "scrolled": true
   },
   "outputs": [],
   "source": [
    "#Confirm NaN values removed\n",
    "no_name_df[\"OUT_Name\"].value_counts()"
   ]
  },
  {
   "cell_type": "code",
   "execution_count": null,
   "metadata": {},
   "outputs": [],
   "source": [
    "#filter out outcome types besides adoption, transfer or Return to Owner\n",
    "no_name_df = no_name_df[no_name_df['OUT_Outcome Type'].isin([\"Adoption\", \"Return to Owner\", \"Transfer\"])]\n",
    "no_name_df"
   ]
  },
  {
   "cell_type": "code",
   "execution_count": null,
   "metadata": {},
   "outputs": [],
   "source": [
    "#Confirm all outcome types removed besides adoption, transfer or Return to Owner\n",
    "no_name_df[\"OUT_Outcome Type\"].value_counts()"
   ]
  },
  {
   "cell_type": "code",
   "execution_count": null,
   "metadata": {},
   "outputs": [],
   "source": [
    "no_name_df = no_name_df = no_name_df.fillna({'OUT_Outcome Subtype':'None'})"
   ]
  },
  {
   "cell_type": "code",
   "execution_count": null,
   "metadata": {},
   "outputs": [],
   "source": [
    "#See what adoption subtypes remain\n",
    "no_name_df[\"OUT_Outcome Subtype\"].value_counts()"
   ]
  },
  {
   "cell_type": "code",
   "execution_count": null,
   "metadata": {},
   "outputs": [],
   "source": [
    "no_name_df = no_name_df[no_name_df['OUT_Outcome Subtype'].isin([\"None\", \"Partner\", \"SCRP\", \"Snr\"])]\n",
    "no_name_df"
   ]
  },
  {
   "cell_type": "code",
   "execution_count": null,
   "metadata": {},
   "outputs": [],
   "source": [
    "no_name_df[\"OUT_Outcome Subtype\"].value_counts()"
   ]
  },
  {
   "cell_type": "code",
   "execution_count": null,
   "metadata": {},
   "outputs": [],
   "source": [
    "no_name_df[\"OUT_Outcome Type\"].value_counts()"
   ]
  },
  {
   "cell_type": "code",
   "execution_count": null,
   "metadata": {},
   "outputs": [],
   "source": [
    "no_name_all_count = no_name_df[\"OUT_Outcome Type\"].count()\n",
    "no_name_all_count"
   ]
  },
  {
   "cell_type": "code",
   "execution_count": null,
   "metadata": {},
   "outputs": [],
   "source": [
    "no_name_adoption = (no_name_df.loc[no_name_df[\"OUT_Outcome Type\"] == \"Adoption\", :])"
   ]
  },
  {
   "cell_type": "code",
   "execution_count": null,
   "metadata": {},
   "outputs": [],
   "source": [
    "no_name_adoption_count = no_name_adoption[\"OUT_Outcome Type\"].count()\n",
    "name_adoption_count"
   ]
  },
  {
   "cell_type": "code",
   "execution_count": null,
   "metadata": {},
   "outputs": [],
   "source": [
    "no_name_transfer = (no_name_df.loc[no_name_df[\"OUT_Outcome Type\"] == \"Transfer\", :])"
   ]
  },
  {
   "cell_type": "code",
   "execution_count": null,
   "metadata": {},
   "outputs": [],
   "source": [
    "no_name_transfer_count = no_name_transfer[\"OUT_Outcome Type\"].count()\n",
    "no_name_transfer_count"
   ]
  },
  {
   "cell_type": "code",
   "execution_count": null,
   "metadata": {},
   "outputs": [],
   "source": [
    "no_name_return_to_owner = (no_name_df.loc[no_name_df[\"OUT_Outcome Type\"] == \"Return to Owner\", :])"
   ]
  },
  {
   "cell_type": "code",
   "execution_count": null,
   "metadata": {},
   "outputs": [],
   "source": [
    "no_name_return_to_owner_count = no_name_return_to_owner[\"OUT_Outcome Type\"].count()\n",
    "no_name_return_to_owner_count"
   ]
  },
  {
   "cell_type": "code",
   "execution_count": null,
   "metadata": {},
   "outputs": [],
   "source": [
    "no_name_pct_adopted = no_name_adoption_count/no_name_all_count\n",
    "no_name_pct_adopted"
   ]
  },
  {
   "cell_type": "code",
   "execution_count": null,
   "metadata": {},
   "outputs": [],
   "source": [
    "no_name_per_capita_adopted = no_name_pct_adopted * 100\n",
    "no_name_per_capita_adopted"
   ]
  },
  {
   "cell_type": "code",
   "execution_count": null,
   "metadata": {},
   "outputs": [],
   "source": [
    "no_name_pct_transfer = no_name_transfer_count/no_name_all_count\n",
    "no_name_pct_transfer"
   ]
  },
  {
   "cell_type": "code",
   "execution_count": null,
   "metadata": {},
   "outputs": [],
   "source": [
    "no_name_per_capita_transfer = no_name_pct_transfer * 100\n",
    "no_name_per_capita_transfer"
   ]
  },
  {
   "cell_type": "code",
   "execution_count": null,
   "metadata": {},
   "outputs": [],
   "source": [
    "no_name_pct_return_to_owner = no_name_return_to_owner_count/no_name_all_count\n",
    "no_name_pct_return_to_owner"
   ]
  },
  {
   "cell_type": "code",
   "execution_count": null,
   "metadata": {},
   "outputs": [],
   "source": [
    "no_name_per_capita_return_to_owner = no_name_pct_return_to_owner * 100\n",
    "no_name_per_capita_return_to_owner"
   ]
  },
  {
   "cell_type": "code",
   "execution_count": null,
   "metadata": {},
   "outputs": [],
   "source": [
    "N = 3\n",
    "\n",
    "no_name_chart = [no_name_per_capita_transfer, no_name_per_capita_adopted, no_name_per_capita_return_to_owner]\n",
    "name_chart = [name_per_capita_transfer, name_per_capita_adopted, name_per_capita_return_to_owner]\n",
    "\n",
    "\n",
    "fig, ax = plt.subplots()\n",
    "\n",
    "ind = np.arange(N)    # the x locations for the groups\n",
    "width = 0.40         # the width of the bars\n",
    "p1 = ax.bar(ind, no_name_chart, width, color='#217fd1')\n",
    "\n",
    "p2 = ax.bar(ind + width, name_chart, width, color='#21d1b3')\n",
    "\n",
    "ax.set_title('Outcomes Per 100 Animals', fontweight='bold')\n",
    "ax.set_xticks(ind + width / 2)\n",
    "ax.set_xticklabels(('Transfered', 'Adopted', 'Returned To Owner'))\n",
    "\n",
    "ax.set_ylabel('Number of Occurances', fontweight='bold')\n",
    "ax.set_xlabel('Outcomes', fontweight='bold')\n",
    "\n",
    "ax.legend((p1[0], p2[0]), ('Unnamed', 'Named'))\n",
    "ax.autoscale_view()\n",
    "ax.grid(axis='y', alpha=.20)\n",
    "plt.savefig(\"Outcomes Name Vs. No Name.png\", dpi=1020)\n",
    "plt.show()"
   ]
  },
  {
   "cell_type": "code",
   "execution_count": null,
   "metadata": {},
   "outputs": [],
   "source": [
    "# set width of bar\n",
    "barWidth = 0.25\n",
    " \n",
    "# set height of bar\n",
    "transfered_chart = [no_name_per_capita_transfer, name_per_capita_transfer]\n",
    "adopted_chart = [no_name_per_capita_adopted, name_per_capita_adopted]\n",
    "return_to_owner_chart = [no_name_per_capita_return_to_owner, name_per_capita_return_to_owner]\n",
    " \n",
    "# Set position of bar on X axis\n",
    "r1 = np.arange(len(transfered_chart))\n",
    "r2 = [x + barWidth for x in r1]\n",
    "r3 = [x + barWidth for x in r2]\n",
    " \n",
    "# Make the plot\n",
    "plt.bar(r1, transfered_chart, color='#217fd1', width=barWidth, edgecolor='white', label='Transfered')\n",
    "plt.bar(r2, adopted_chart, color='#ed9b04', width=barWidth, edgecolor='white', label='Adopted')\n",
    "plt.bar(r3, return_to_owner_chart, color='#21d1b3', width=barWidth, edgecolor='white', label='Returned To Owner')\n",
    "\n",
    "#21d1b3\n",
    "\n",
    "# Add xticks on the middle of the group bars\n",
    "plt.xlabel('Outcomes', fontweight='bold')\n",
    "plt.xticks([r + barWidth for r in range(len(transfered_chart))], ['Unnamed', 'Named'])\n",
    "plt.ylabel('Number of Occurances', fontweight='bold')\n",
    "plt.title('Outcomes Per 100 Animals', fontweight='bold')\n",
    "# Create legend & Show graphic\n",
    "plt.legend()\n",
    "plt.grid(axis='y', alpha=.20)\n",
    "plt.savefig(\"Outcomes Unnamed Vs. Named.png\", dpi=1020)\n",
    "plt.show()"
   ]
  },
  {
   "cell_type": "code",
   "execution_count": null,
   "metadata": {},
   "outputs": [],
   "source": [
    "######################################"
   ]
  },
  {
   "cell_type": "code",
   "execution_count": null,
   "metadata": {},
   "outputs": [],
   "source": [
    "test_df.head()"
   ]
  },
  {
   "cell_type": "code",
   "execution_count": null,
   "metadata": {
    "scrolled": true
   },
   "outputs": [],
   "source": [
    "list(test_df)"
   ]
  },
  {
   "cell_type": "code",
   "execution_count": null,
   "metadata": {},
   "outputs": [],
   "source": [
    "#test_df = test_df = test_df.fillna({'stay_number':'None'})"
   ]
  },
  {
   "cell_type": "code",
   "execution_count": null,
   "metadata": {},
   "outputs": [],
   "source": [
    "test_df[\"stay_number\"].count()"
   ]
  },
  {
   "cell_type": "code",
   "execution_count": null,
   "metadata": {},
   "outputs": [],
   "source": [
    "test_df[\"stay_number\"].value_counts()"
   ]
  },
  {
   "cell_type": "code",
   "execution_count": null,
   "metadata": {},
   "outputs": [],
   "source": [
    "test_df[\"num_of_intakes_for_ID\"].value_counts()"
   ]
  },
  {
   "cell_type": "code",
   "execution_count": null,
   "metadata": {},
   "outputs": [],
   "source": [
    "working_base_master.head()"
   ]
  },
  {
   "cell_type": "code",
   "execution_count": null,
   "metadata": {},
   "outputs": [],
   "source": [
    "return_df = working_base_master[working_base_master['time_to_exit'].between(0, 2000)]\n",
    "return_df"
   ]
  },
  {
   "cell_type": "code",
   "execution_count": null,
   "metadata": {},
   "outputs": [],
   "source": [
    "return_df = return_df[return_df['Intake Type'].isin([\"Owner Surrender\", \"Stray\"])]\n",
    "return_df"
   ]
  },
  {
   "cell_type": "code",
   "execution_count": null,
   "metadata": {
    "scrolled": true
   },
   "outputs": [],
   "source": [
    "return_df = return_df.loc[return_df[\"Intake Condition\"] == \"Normal\", :]\n",
    "\n",
    "return_df.head()"
   ]
  },
  {
   "cell_type": "code",
   "execution_count": null,
   "metadata": {},
   "outputs": [],
   "source": [
    "dog_return_df = return_df.loc[return_df[\"Animal Type\"] == \"Dog\", :]\n",
    "\n",
    "dog_return_df.head()"
   ]
  },
  {
   "cell_type": "code",
   "execution_count": null,
   "metadata": {},
   "outputs": [],
   "source": [
    "dog_return_df = dog_return_df[dog_return_df['OUT_Outcome Type'].isin([\"Adoption\"])]\n",
    "dog_return_df"
   ]
  },
  {
   "cell_type": "code",
   "execution_count": null,
   "metadata": {},
   "outputs": [],
   "source": [
    "dog_return_df = dog_return_df.fillna({'OUT_Outcome Subtype':'None'})"
   ]
  },
  {
   "cell_type": "code",
   "execution_count": null,
   "metadata": {},
   "outputs": [],
   "source": [
    "#See what adoption subtypes remain\n",
    "dog_return_df[\"OUT_Outcome Subtype\"].value_counts()"
   ]
  },
  {
   "cell_type": "code",
   "execution_count": null,
   "metadata": {},
   "outputs": [],
   "source": [
    "dog_return_df = dog_return_df[dog_return_df['OUT_Outcome Subtype'].isin([\"None\"])]\n",
    "dog_return_df"
   ]
  },
  {
   "cell_type": "code",
   "execution_count": null,
   "metadata": {},
   "outputs": [],
   "source": [
    "pit_bull_total_adopted = dog_return_df[dog_return_df[\"OUT_Breed\"].str.contains('Pit')]\n",
    "pit_bull_total_adopted"
   ]
  },
  {
   "cell_type": "code",
   "execution_count": null,
   "metadata": {},
   "outputs": [],
   "source": [
    "non_pit_bull_total_adopted = dog_return_df[dog_return_df[\"OUT_Breed\"].str.contains('Pit') == False]\n",
    "non_pit_bull_total_adopted"
   ]
  },
  {
   "cell_type": "code",
   "execution_count": null,
   "metadata": {},
   "outputs": [],
   "source": [
    "#create 1 return df\n",
    "#create 2 return df\n",
    "\n",
    "#create 1 return dog df\n",
    "#create 2 return dog df\n",
    "\n",
    "#create 1 return pit bull df\n",
    "#create 2 return non-pit bull df\n",
    "\n",
    "#create 1 return pit bull df\n",
    "#create 2 return non-pit bull df"
   ]
  },
  {
   "cell_type": "code",
   "execution_count": null,
   "metadata": {},
   "outputs": [],
   "source": [
    "one_return_df = dog_return_df[dog_return_df['stay_number'].isin([\"1.0\"])]\n",
    "one_return_df"
   ]
  },
  {
   "cell_type": "code",
   "execution_count": null,
   "metadata": {},
   "outputs": [],
   "source": [
    "two_return_df = dog_return_df[dog_return_df['stay_number'].isin([\"2.0\"])]\n",
    "two_return_df"
   ]
  },
  {
   "cell_type": "code",
   "execution_count": null,
   "metadata": {},
   "outputs": [],
   "source": [
    "all_return_df = dog_return_df[dog_return_df['stay_number'].isin([\"1.0\", \"2.0\"])]\n",
    "all_return_df"
   ]
  },
  {
   "cell_type": "code",
   "execution_count": null,
   "metadata": {},
   "outputs": [],
   "source": [
    "one_return_df = one_return_df[one_return_df['Intake Type'].isin([\"Owner Surrender\"])]\n",
    "one_return_df"
   ]
  },
  {
   "cell_type": "code",
   "execution_count": null,
   "metadata": {},
   "outputs": [],
   "source": [
    "two_return_df = two_return_df[two_return_df['Intake Type'].isin([\"Owner Surrender\"])]\n",
    "two_return_df"
   ]
  },
  {
   "cell_type": "code",
   "execution_count": null,
   "metadata": {},
   "outputs": [],
   "source": [
    "all_return_df = all_return_df[all_return_df['Intake Type'].isin([\"Owner Surrender\"])]\n",
    "all_return_df"
   ]
  },
  {
   "cell_type": "code",
   "execution_count": null,
   "metadata": {},
   "outputs": [],
   "source": [
    "one_pit_bull_list = one_return_df[one_return_df['OUT_Breed'].str.contains('Pit')]\n",
    "one_pit_bull_list.count()"
   ]
  },
  {
   "cell_type": "code",
   "execution_count": null,
   "metadata": {},
   "outputs": [],
   "source": [
    "two_pit_bull_list = two_return_df[two_return_df['OUT_Breed'].str.contains('Pit')]"
   ]
  },
  {
   "cell_type": "code",
   "execution_count": null,
   "metadata": {},
   "outputs": [],
   "source": [
    "all_pit_bull_list = all_return_df[all_return_df['OUT_Breed'].str.contains('Pit')]"
   ]
  },
  {
   "cell_type": "code",
   "execution_count": null,
   "metadata": {},
   "outputs": [],
   "source": [
    "one_non_pit_bull_list = one_return_df[one_return_df['OUT_Breed'].str.contains('Pit') == False]"
   ]
  },
  {
   "cell_type": "code",
   "execution_count": null,
   "metadata": {},
   "outputs": [],
   "source": [
    "two_non_pit_bull_list = two_return_df[two_return_df['OUT_Breed'].str.contains('Pit') == False]"
   ]
  },
  {
   "cell_type": "code",
   "execution_count": null,
   "metadata": {},
   "outputs": [],
   "source": [
    "all_non_pit_bull_list = all_return_df[all_return_df['OUT_Breed'].str.contains('Pit') == False]"
   ]
  },
  {
   "cell_type": "code",
   "execution_count": null,
   "metadata": {},
   "outputs": [],
   "source": [
    "one_pit_bull_return_pct = one_pit_bull_list['OUT_Breed'].count()/pit_bull_total_adopted['OUT_Breed'].count()\n",
    "one_pit_bull_return_pct"
   ]
  },
  {
   "cell_type": "code",
   "execution_count": null,
   "metadata": {},
   "outputs": [],
   "source": [
    "one_pit_bull_return_per_capita = one_pit_bull_return_pct * 100\n",
    "one_pit_bull_return_per_capita"
   ]
  },
  {
   "cell_type": "code",
   "execution_count": null,
   "metadata": {},
   "outputs": [],
   "source": [
    "two_pit_bull_return_pct = two_pit_bull_list['OUT_Breed'].count()/pit_bull_total_adopted['OUT_Breed'].count()\n",
    "two_pit_bull_return_pct"
   ]
  },
  {
   "cell_type": "code",
   "execution_count": null,
   "metadata": {},
   "outputs": [],
   "source": [
    "two_pit_bull_return_per_capita = two_pit_bull_return_pct * 100\n",
    "two_pit_bull_return_per_capita"
   ]
  },
  {
   "cell_type": "code",
   "execution_count": null,
   "metadata": {},
   "outputs": [],
   "source": [
    "all_pit_bull_return_pct = all_pit_bull_list['OUT_Breed'].count()/pit_bull_total_adopted['OUT_Breed'].count()\n",
    "all_pit_bull_return_pct"
   ]
  },
  {
   "cell_type": "code",
   "execution_count": null,
   "metadata": {},
   "outputs": [],
   "source": [
    "all_pit_bull_return_per_capita = all_pit_bull_return_pct * 100\n",
    "all_pit_bull_return_per_capita"
   ]
  },
  {
   "cell_type": "code",
   "execution_count": null,
   "metadata": {},
   "outputs": [],
   "source": [
    "one_non_pit_bull_return_pct = one_non_pit_bull_list['OUT_Breed'].count()/non_pit_bull_total_adopted['OUT_Breed'].count()\n",
    "one_non_pit_bull_return_pct"
   ]
  },
  {
   "cell_type": "code",
   "execution_count": null,
   "metadata": {},
   "outputs": [],
   "source": [
    "one_non_pit_bull_return_per_capita = one_non_pit_bull_return_pct * 100\n",
    "one_non_pit_bull_return_per_capita"
   ]
  },
  {
   "cell_type": "code",
   "execution_count": null,
   "metadata": {},
   "outputs": [],
   "source": [
    "two_non_pit_bull_return_pct = two_non_pit_bull_list['OUT_Breed'].count()/non_pit_bull_total_adopted['OUT_Breed'].count()\n",
    "two_non_pit_bull_return_pct"
   ]
  },
  {
   "cell_type": "code",
   "execution_count": null,
   "metadata": {},
   "outputs": [],
   "source": [
    "two_non_pit_bull_return_per_capita = two_non_pit_bull_return_pct * 100\n",
    "two_non_pit_bull_return_per_capita"
   ]
  },
  {
   "cell_type": "code",
   "execution_count": null,
   "metadata": {},
   "outputs": [],
   "source": [
    "all_non_pit_bull_return_pct = all_non_pit_bull_list['OUT_Breed'].count()/non_pit_bull_total_adopted['OUT_Breed'].count()\n",
    "all_non_pit_bull_return_pct"
   ]
  },
  {
   "cell_type": "code",
   "execution_count": null,
   "metadata": {},
   "outputs": [],
   "source": [
    "all_non_pit_bull_return_per_capita = all_non_pit_bull_return_pct * 100\n",
    "all_non_pit_bull_return_per_capita"
   ]
  },
  {
   "cell_type": "code",
   "execution_count": null,
   "metadata": {},
   "outputs": [],
   "source": [
    "breed = [\"Non-Pit Bull\", \"Pit Bull or Pit Bull Mix\"]\n",
    "return_rate = [all_non_pit_bull_return_per_capita, all_pit_bull_return_per_capita]\n",
    "x_axis = [1,2]\n",
    "\n",
    "plt.bar(x_axis, return_rate, color='#4283f4', align=\"center\")\n",
    "\n",
    "tick_locations = [value for value in x_axis]\n",
    "plt.xticks(tick_locations, breed)\n",
    "\n",
    "barlist=plt.bar([1], [all_non_pit_bull_return_per_capita])\n",
    "barlist[0].set_color('#f49404')\n",
    "\n",
    "plt.title(\"Outcomes Per 100 Adopted Animals\", fontweight='bold')\n",
    "plt.xlabel(\"Breeds\", fontweight='bold')\n",
    "plt.ylabel(\"Number of Returns\", fontweight='bold')\n",
    "\n",
    "plt.legend((p1[0], p2[0]), ('Unnamed', 'Named'))\n",
    "\n",
    "plt.grid(axis='y', alpha=.20)\n",
    "plt.savefig(\"Outcomes Pitbull vs. Non-Pitbull.png\", dpi=1020)\n",
    "plt.show()"
   ]
  },
  {
   "cell_type": "code",
   "execution_count": null,
   "metadata": {},
   "outputs": [],
   "source": []
  },
  {
   "cell_type": "code",
   "execution_count": null,
   "metadata": {},
   "outputs": [],
   "source": []
  },
  {
   "cell_type": "code",
   "execution_count": null,
   "metadata": {},
   "outputs": [],
   "source": []
  },
  {
   "cell_type": "code",
   "execution_count": null,
   "metadata": {},
   "outputs": [],
   "source": [
    "# set width of bar\n",
    "barWidth = 0.25\n",
    " \n",
    "# set height of bar\n",
    "per_capita_non_pit_bull = [all_non_pit_bull_return_per_capita]\n",
    "per_capita_pit_bull = [all_pit_bull_return_per_capita]\n",
    "#return_to_owner_chart = [no_name_per_capita_return_to_owner, name_per_capita_return_to_owner]\n",
    " \n",
    "# Set position of bar on X axis\n",
    "r1 = np.arange(len(all_non_pit_bull_return_per_capita))\n",
    "r2 = [x + barWidth for x in r1]\n",
    "#r3 = [x + barWidth for x in r2]\n",
    " \n",
    "# Make the plot\n",
    "plt.bar(r1, per_capita_non_pit_bull, color='#217fd1', width=barWidth, edgecolor='white', label='Transfered')\n",
    "plt.bar(r2, per_capita_pit_bull, color='#ed9b04', width=barWidth, edgecolor='white', label='Adopted')\n",
    "#plt.bar(r3, return_to_owner_chart, color='#21d1b3', width=barWidth, edgecolor='white', label='Returned To Owner')\n",
    "\n",
    "#21d1b3\n",
    "\n",
    "# Add xticks on the middle of the group bars\n",
    "plt.xlabel('Outcomes', fontweight='bold')\n",
    "plt.xticks([r + barWidth for r in range(len(per_capita_non_pit_bull))], ['Owner Surrender'])\n",
    "plt.ylabel('Number of Occurances', fontweight='bold')\n",
    "plt.title('Outcomes Per 100 Animals', fontweight='bold')\n",
    "# Create legend & Show graphic\n",
    "plt.legend()\n",
    "plt.grid(axis='y', alpha=.20)\n",
    "plt.savefig(\"Outcomes Pitbull vs. Non-Pitbull.png\", dpi=1020)\n",
    "plt.show()"
   ]
  },
  {
   "cell_type": "code",
   "execution_count": null,
   "metadata": {},
   "outputs": [],
   "source": []
  },
  {
   "cell_type": "code",
   "execution_count": null,
   "metadata": {},
   "outputs": [],
   "source": []
  },
  {
   "cell_type": "code",
   "execution_count": null,
   "metadata": {},
   "outputs": [],
   "source": []
  },
  {
   "cell_type": "code",
   "execution_count": null,
   "metadata": {},
   "outputs": [],
   "source": []
  },
  {
   "cell_type": "code",
   "execution_count": null,
   "metadata": {},
   "outputs": [],
   "source": []
  }
 ],
 "metadata": {
  "kernelspec": {
   "display_name": "Python [default]",
   "language": "python",
   "name": "python3"
  },
  "language_info": {
   "codemirror_mode": {
    "name": "ipython",
    "version": 3
   },
   "file_extension": ".py",
   "mimetype": "text/x-python",
   "name": "python",
   "nbconvert_exporter": "python",
   "pygments_lexer": "ipython3",
   "version": "3.6.5"
  }
 },
 "nbformat": 4,
 "nbformat_minor": 2
}
