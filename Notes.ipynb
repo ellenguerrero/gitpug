{
 "cells": [
  {
   "cell_type": "code",
   "execution_count": null,
   "metadata": {},
   "outputs": [],
   "source": [
    "%matplotlib inline\n",
    "# Import Dependencies\n",
    "import pandas as pd\n",
    "import numpy as np\n",
    "from datetime import datetime\n",
    "import matplotlib.pyplot as plt\n",
    "\n",
    "# Read the CSV into a Pandas DataFrame\n",
    "intake_csv = \"Resources/Austin_Animal_Center_Intakes.csv\"\n",
    "outcome_csv= \"Resources/Austin_Animal_Center_Outcomes.csv\"\n",
    "\n",
    "intake_df = pd.read_csv(intake_csv)\n",
    "outcome_df = pd.read_csv(outcome_csv)\n",
    "\n",
    "#convert date variable to datetime format\n",
    "\n",
    "intake_df['DateTime'] = pd.to_datetime(intake_df['DateTime']).dt.date\n",
    "outcome_df['DateTime'] = pd.to_datetime(outcome_df['DateTime']).dt.date\n",
    "\n",
    "#update intake file with column reflecting number of intakes\n",
    "#and select outcomes for animals with 1 or 2 intakes\n",
    "intake_counts=intake_df.groupby(['Animal ID']).size().reset_index(name='counts')\n",
    "intake_df=pd.merge(intake_df, intake_counts, on=\"Animal ID\", how=\"outer\")\n",
    "reduced_intake_df=intake_df.query('counts <3')\n",
    "\n",
    "#update outtake file with column reflecting number of intakes per animal\n",
    "#and select outcomes for animals with 1 or 2 intakes\n",
    "outcome_df=pd.merge(outcome_df, intake_counts, on=\"Animal ID\", how=\"left\")\n",
    "reduced_outcome_df=outcome_df.query('counts <3')\n",
    "#reduced_outcome_df=reduced_outcome_df.drop(columns=['counts'])"
   ]
  },
  {
   "cell_type": "code",
   "execution_count": null,
   "metadata": {},
   "outputs": [],
   "source": [
    "outcome_df"
   ]
  },
  {
   "cell_type": "code",
   "execution_count": null,
   "metadata": {},
   "outputs": [],
   "source": [
    "reduced_outcome_df"
   ]
  },
  {
   "cell_type": "code",
   "execution_count": null,
   "metadata": {},
   "outputs": [],
   "source": [
    "#now take single intake animals and match with any available outcome\n",
    "reduced_intake_only_one_df=reduced_intake_df.query('counts <2')\n",
    "#reduced_intake_only_one_df=reduced_intake_only_one_df.add_prefix('IN_')\n",
    "reduced_outcome_df=reduced_outcome_df.add_prefix(\"OUT_\")\n",
    "\n",
    "reduced_intake_only_one_df=reduced_intake_only_one_df.rename(index=str,columns={\"IN_Animal ID\": \"Animal ID\"})\n",
    "reduced_outcome_df=reduced_outcome_df.rename(index=str,columns={\"OUT_Animal ID\": \"Animal ID\"})\n",
    "one_intake_merged=pd.merge(reduced_intake_only_one_df, reduced_outcome_df, on=\"Animal ID\", how=\"left\")"
   ]
  },
  {
   "cell_type": "code",
   "execution_count": null,
   "metadata": {},
   "outputs": [],
   "source": [
    "one_intake_merged[\"num_of_intakes_for_ID\"]=1"
   ]
  },
  {
   "cell_type": "code",
   "execution_count": null,
   "metadata": {},
   "outputs": [],
   "source": [
    "#now take two intake animals and figure out order of intakes and outcomes\n",
    "reduced_intake_two_df=reduced_intake_df.query('counts !=1')\n"
   ]
  },
  {
   "cell_type": "code",
   "execution_count": null,
   "metadata": {},
   "outputs": [],
   "source": [
    "reduced_intake_two_first_date_lookup_df=reduced_intake_two_df.groupby('Animal ID').aggregate(['min']).reset_index()\n",
    "reduced_intake_two_first_date_lookup_df = reduced_intake_two_first_date_lookup_df[['Animal ID','DateTime']]\n",
    "reduced_intake_two_first_date_lookup_df[\"stay_number\"]=1\n",
    "reduced_intake_two_first_date_lookup_df.columns = reduced_intake_two_first_date_lookup_df.columns.droplevel(1)\n",
    "\n",
    "\n",
    "reduced_intake_two_first_date_lookup_df.head()"
   ]
  },
  {
   "cell_type": "code",
   "execution_count": null,
   "metadata": {},
   "outputs": [],
   "source": [
    "reduced_intake_two_second_date_lookup_df=reduced_intake_two_df.groupby('Animal ID').aggregate(['max']).reset_index()\n",
    "reduced_intake_two_second_date_lookup_df = reduced_intake_two_second_date_lookup_df[['Animal ID','DateTime']]\n",
    "reduced_intake_two_second_date_lookup_df[\"stay_number\"]=2\n",
    "reduced_intake_two_second_date_lookup_df.columns = reduced_intake_two_second_date_lookup_df.columns.droplevel(1)"
   ]
  },
  {
   "cell_type": "code",
   "execution_count": null,
   "metadata": {},
   "outputs": [],
   "source": [
    "reduced_intake_two_second_date_lookup_df.head()"
   ]
  },
  {
   "cell_type": "code",
   "execution_count": null,
   "metadata": {},
   "outputs": [],
   "source": [
    "multiple_intakes_order_lookup = reduced_intake_two_first_date_lookup_df.append(reduced_intake_two_second_date_lookup_df)"
   ]
  },
  {
   "cell_type": "code",
   "execution_count": null,
   "metadata": {},
   "outputs": [],
   "source": [
    "#multiple_intakes_order_lookup"
   ]
  },
  {
   "cell_type": "code",
   "execution_count": null,
   "metadata": {},
   "outputs": [],
   "source": [
    "#reduced_intake_two_df\n",
    "\n",
    "reduced_intake_two_df=pd.merge(reduced_intake_two_df, multiple_intakes_order_lookup, on=[\"Animal ID\",\"DateTime\"], how=\"left\")\n",
    "#reduced_intake_two_df"
   ]
  },
  {
   "cell_type": "code",
   "execution_count": null,
   "metadata": {},
   "outputs": [],
   "source": [
    "#look at outcome records for the two-intake group and determine order"
   ]
  },
  {
   "cell_type": "code",
   "execution_count": null,
   "metadata": {},
   "outputs": [],
   "source": [
    "#reduced_outcome_df"
   ]
  },
  {
   "cell_type": "code",
   "execution_count": null,
   "metadata": {},
   "outputs": [],
   "source": [
    "\n",
    "reduced_outcome_two_first_date_lookup_df=reduced_outcome_df.groupby('Animal ID').aggregate(['min']).reset_index()\n",
    "reduced_outcome_two_first_date_lookup_df = reduced_outcome_two_first_date_lookup_df[['Animal ID','OUT_DateTime']]\n",
    "reduced_outcome_two_first_date_lookup_df[\"stay_number\"]=1\n",
    "reduced_outcome_two_first_date_lookup_df.columns = reduced_outcome_two_first_date_lookup_df.columns.droplevel(1)\n",
    "\n",
    "\n",
    "reduced_outcome_two_first_date_lookup_df.head()"
   ]
  },
  {
   "cell_type": "code",
   "execution_count": null,
   "metadata": {},
   "outputs": [],
   "source": [
    "reduced_outcome_df=pd.merge(reduced_outcome_df, reduced_outcome_two_first_date_lookup_df, on=[\"Animal ID\",\"OUT_DateTime\"], how=\"left\")\n",
    "\n",
    "reduced_outcome_df"
   ]
  },
  {
   "cell_type": "code",
   "execution_count": null,
   "metadata": {},
   "outputs": [],
   "source": [
    "reduced_outcome_df['stay_number']=reduced_outcome_df['stay_number'].fillna(2)\n",
    "#reduced_outcome_df"
   ]
  },
  {
   "cell_type": "code",
   "execution_count": null,
   "metadata": {},
   "outputs": [],
   "source": [
    "#reduced_intake_two_df=reduced_intake_two_df.add_prefix('IN_')\n",
    "reduced_intake_two_df=reduced_intake_two_df.rename(index=str,columns={\"IN_Animal ID\": \"Animal ID\",\"IN_stay_number\":\"stay_number\"})\n",
    "reduced_intake_two_df"
   ]
  },
  {
   "cell_type": "code",
   "execution_count": null,
   "metadata": {},
   "outputs": [],
   "source": [
    "#merge the multiple intake with coressponsing outcomes - will not yield two outcomes for animals still in residence\n",
    "two_intakes_merged=pd.merge(reduced_intake_two_df, reduced_outcome_df, on=[\"Animal ID\", \"stay_number\"], how=\"left\")\n",
    "two_intakes_merged[\"num_of_intakes_for_ID\"]=\"2\""
   ]
  },
  {
   "cell_type": "code",
   "execution_count": null,
   "metadata": {},
   "outputs": [],
   "source": [
    "two_intakes_merged"
   ]
  },
  {
   "cell_type": "code",
   "execution_count": null,
   "metadata": {},
   "outputs": [],
   "source": [
    "one_intake_merged"
   ]
  },
  {
   "cell_type": "code",
   "execution_count": null,
   "metadata": {},
   "outputs": [],
   "source": [
    "working_base_master=one_intake_merged.append(two_intakes_merged, ignore_index=True)"
   ]
  },
  {
   "cell_type": "code",
   "execution_count": null,
   "metadata": {
    "scrolled": false
   },
   "outputs": [],
   "source": [
    "working_base_master.head()"
   ]
  },
  {
   "cell_type": "code",
   "execution_count": null,
   "metadata": {},
   "outputs": [],
   "source": [
    "working_base_master['time_to_exit'] = working_base_master['OUT_DateTime']-working_base_master['DateTime']"
   ]
  },
  {
   "cell_type": "code",
   "execution_count": null,
   "metadata": {},
   "outputs": [],
   "source": [
    "working_base_master['time_to_exit']=working_base_master['time_to_exit'] / np.timedelta64(1, 'D')"
   ]
  },
  {
   "cell_type": "code",
   "execution_count": null,
   "metadata": {},
   "outputs": [],
   "source": [
    "working_base_master['time_to_exit'].dtype"
   ]
  },
  {
   "cell_type": "code",
   "execution_count": null,
   "metadata": {},
   "outputs": [],
   "source": [
    "working_base_master.head()"
   ]
  },
  {
   "cell_type": "code",
   "execution_count": null,
   "metadata": {},
   "outputs": [],
   "source": [
    "working_base_master[\"Intake Type\"].value_counts()"
   ]
  },
  {
   "cell_type": "code",
   "execution_count": null,
   "metadata": {},
   "outputs": [],
   "source": [
    "#Discover maximum time_to_exit\n",
    "working_base_master[\"time_to_exit\"].max()"
   ]
  },
  {
   "cell_type": "code",
   "execution_count": null,
   "metadata": {
    "scrolled": true
   },
   "outputs": [],
   "source": [
    "#number of repeat visits\n",
    "working_base_master[\"num_of_intakes_for_ID\"].value_counts()"
   ]
  },
  {
   "cell_type": "code",
   "execution_count": null,
   "metadata": {},
   "outputs": [],
   "source": [
    "working_base_master[\"Intake Type\"].value_counts()"
   ]
  },
  {
   "cell_type": "code",
   "execution_count": null,
   "metadata": {},
   "outputs": [],
   "source": [
    "############################"
   ]
  },
  {
   "cell_type": "code",
   "execution_count": null,
   "metadata": {},
   "outputs": [],
   "source": [
    "################################### alternate way to calculate the days 7 14 30 30+ etc for no name."
   ]
  },
  {
   "cell_type": "code",
   "execution_count": null,
   "metadata": {},
   "outputs": [],
   "source": [
    "#Create dataframe of not named pets at outcome by dropping no names\n",
    "no_name_df = test_df.fillna({'OUT_Name':'None'})\n",
    "no_name_df"
   ]
  },
  {
   "cell_type": "code",
   "execution_count": null,
   "metadata": {
    "scrolled": true
   },
   "outputs": [],
   "source": [
    "no_name_df"
   ]
  },
  {
   "cell_type": "code",
   "execution_count": null,
   "metadata": {
    "scrolled": true
   },
   "outputs": [],
   "source": [
    "#Confirm NaN values renamed as none\n",
    "no_name_df[\"OUT_Name\"].value_counts()"
   ]
  },
  {
   "cell_type": "code",
   "execution_count": null,
   "metadata": {},
   "outputs": [],
   "source": [
    "#filter to just unnamed animals\n",
    "no_name_df = no_name_df.loc[no_name_df[\"OUT_Name\"] == \"None\", :]\n",
    "\n",
    "no_name_df.head()"
   ]
  },
  {
   "cell_type": "code",
   "execution_count": null,
   "metadata": {},
   "outputs": [],
   "source": [
    "#Confirm none is the only remaining value\n",
    "no_name_df[\"OUT_Name\"].value_counts()"
   ]
  },
  {
   "cell_type": "code",
   "execution_count": null,
   "metadata": {
    "scrolled": true
   },
   "outputs": [],
   "source": [
    "no_name_df[\"Color\"].value_counts()"
   ]
  },
  {
   "cell_type": "code",
   "execution_count": null,
   "metadata": {},
   "outputs": [],
   "source": [
    "no_name_df[\"OUT_Outcome Type\"].value_counts()"
   ]
  },
  {
   "cell_type": "code",
   "execution_count": null,
   "metadata": {},
   "outputs": [],
   "source": [
    "no_name_df.count()"
   ]
  },
  {
   "cell_type": "code",
   "execution_count": null,
   "metadata": {},
   "outputs": [],
   "source": [
    "no_name_df[\"OUT_Outcome Subtype\"].count()"
   ]
  },
  {
   "cell_type": "code",
   "execution_count": null,
   "metadata": {},
   "outputs": [],
   "source": [
    "#filter out outcome types besides adoption\n",
    "no_name_df = no_name_df.loc[no_name_df[\"OUT_Outcome Type\"] == \"Adoption\", :]\n",
    "\n",
    "no_name_df.head()"
   ]
  },
  {
   "cell_type": "code",
   "execution_count": null,
   "metadata": {},
   "outputs": [],
   "source": [
    "#Confirm all outcome types removed besides adoption\n",
    "no_name_df[\"OUT_Outcome Type\"].value_counts()"
   ]
  },
  {
   "cell_type": "code",
   "execution_count": null,
   "metadata": {},
   "outputs": [],
   "source": [
    "no_name_df = no_name_df = no_name_df.fillna({'OUT_Outcome Subtype':'None'})"
   ]
  },
  {
   "cell_type": "code",
   "execution_count": null,
   "metadata": {},
   "outputs": [],
   "source": [
    "#See what adoption subtypes remain\n",
    "no_name_df[\"OUT_Outcome Subtype\"].value_counts()"
   ]
  },
  {
   "cell_type": "code",
   "execution_count": null,
   "metadata": {},
   "outputs": [],
   "source": [
    "no_name_df = no_name_df.loc[no_name_df[\"OUT_Outcome Subtype\"] == \"None\", :]\n",
    "\n",
    "no_name_df.head()"
   ]
  },
  {
   "cell_type": "code",
   "execution_count": null,
   "metadata": {},
   "outputs": [],
   "source": [
    "no_name_df.count()"
   ]
  },
  {
   "cell_type": "code",
   "execution_count": null,
   "metadata": {
    "scrolled": true
   },
   "outputs": [],
   "source": [
    "no_name_df_all = no_name_df[no_name_df['time_to_exit'].between(0, 2000)]\n",
    "no_name_df_all"
   ]
  },
  {
   "cell_type": "code",
   "execution_count": null,
   "metadata": {},
   "outputs": [],
   "source": [
    "no_name_count_all = no_name_df_all['time_to_exit'].count()\n",
    "no_name_count_all"
   ]
  },
  {
   "cell_type": "code",
   "execution_count": null,
   "metadata": {},
   "outputs": [],
   "source": [
    "no_name_df_7 = no_name_df[no_name_df['time_to_exit'].between(0, 7)]\n",
    "no_name_df_7\n",
    "\n",
    "#df = df[df['closing_price'].between(99, 101)]"
   ]
  },
  {
   "cell_type": "code",
   "execution_count": null,
   "metadata": {},
   "outputs": [],
   "source": [
    "no_name_count_7 = no_name_df_7['time_to_exit'].count()\n",
    "no_name_count_7"
   ]
  },
  {
   "cell_type": "code",
   "execution_count": null,
   "metadata": {},
   "outputs": [],
   "source": [
    "no_name_df_8_14 = no_name_df[no_name_df['time_to_exit'].between(8, 14)]\n",
    "no_name_df_8_14"
   ]
  },
  {
   "cell_type": "code",
   "execution_count": null,
   "metadata": {},
   "outputs": [],
   "source": [
    "no_name_count_8_14 = no_name_df_8_14['time_to_exit'].count()\n",
    "no_name_count_8_14"
   ]
  },
  {
   "cell_type": "code",
   "execution_count": null,
   "metadata": {},
   "outputs": [],
   "source": [
    "no_name_df_15_30 = no_name_df[no_name_df['time_to_exit'].between(15, 30)]\n",
    "no_name_df_15_30"
   ]
  },
  {
   "cell_type": "code",
   "execution_count": null,
   "metadata": {},
   "outputs": [],
   "source": [
    "no_name_count_15_30 = no_name_df_15_30['time_to_exit'].count()\n",
    "no_name_count_15_30"
   ]
  },
  {
   "cell_type": "code",
   "execution_count": null,
   "metadata": {},
   "outputs": [],
   "source": [
    "no_name_df_over_30 = no_name_df[no_name_df['time_to_exit'].between(31, 2000)]\n",
    "no_name_df_over_30"
   ]
  },
  {
   "cell_type": "code",
   "execution_count": null,
   "metadata": {},
   "outputs": [],
   "source": [
    "no_name_count_over_30 = no_name_df_over_30['time_to_exit'].count()\n",
    "no_name_count_over_30"
   ]
  },
  {
   "cell_type": "code",
   "execution_count": null,
   "metadata": {},
   "outputs": [],
   "source": [
    "#next calculate the percentages for 7, 14, 30, and over 30 for name_df"
   ]
  },
  {
   "cell_type": "code",
   "execution_count": null,
   "metadata": {},
   "outputs": [],
   "source": [
    "no_name_count_all"
   ]
  },
  {
   "cell_type": "code",
   "execution_count": null,
   "metadata": {},
   "outputs": [],
   "source": [
    "no_name_count_7"
   ]
  },
  {
   "cell_type": "code",
   "execution_count": null,
   "metadata": {},
   "outputs": [],
   "source": [
    "no_name_count_8_14"
   ]
  },
  {
   "cell_type": "code",
   "execution_count": null,
   "metadata": {},
   "outputs": [],
   "source": [
    "no_name_count_15_30"
   ]
  },
  {
   "cell_type": "code",
   "execution_count": null,
   "metadata": {},
   "outputs": [],
   "source": [
    "no_name_count_over_30"
   ]
  },
  {
   "cell_type": "code",
   "execution_count": null,
   "metadata": {},
   "outputs": [],
   "source": [
    "no_name_count_7+no_name_count_8_14+no_name_count_15_30+no_name_count_over_30"
   ]
  },
  {
   "cell_type": "code",
   "execution_count": null,
   "metadata": {},
   "outputs": [],
   "source": [
    "#percent adopted within 7 days\n",
    "pct_no_name_adopted_7 = no_name_count_7/no_name_count_all\n",
    "pct_no_name_adopted_7"
   ]
  },
  {
   "cell_type": "code",
   "execution_count": null,
   "metadata": {},
   "outputs": [],
   "source": [
    "#percent adopted 8-14\n",
    "pct_no_name_adopted_8_14 = no_name_count_8_14/no_name_count_all\n",
    "pct_no_name_adopted_8_14"
   ]
  },
  {
   "cell_type": "code",
   "execution_count": null,
   "metadata": {},
   "outputs": [],
   "source": [
    "#percent adopted 15-30\n",
    "pct_no_name_adopted_15_30 = no_name_count_15_30/no_name_count_all\n",
    "pct_no_name_adopted_15_30"
   ]
  },
  {
   "cell_type": "code",
   "execution_count": null,
   "metadata": {},
   "outputs": [],
   "source": [
    "#percent adopted 30\n",
    "pct_no_name_adopted_over_30 = no_name_count_over_30/no_name_count_all\n",
    "pct_no_name_adopted_over_30"
   ]
  },
  {
   "cell_type": "code",
   "execution_count": null,
   "metadata": {},
   "outputs": [],
   "source": [
    "# Build Pie Chart\n",
    "\n",
    "# Set Pie Chart Variables\n",
    "range_type = [\"7 days\", \"8-14 days\", \"15-30 days\", \"Over 30 days\"]\n",
    "name_adoption_pct = [pct_name_adopted_7, pct_name_adopted_8_14, pct_name_adopted_15_30, pct_name_adopted_over_30]\n",
    "colors = [\"#E28683\", \"#F9D649\", \"#96CDF6\", \"#F9D649\"]\n",
    "explode = (0.1,0,0)\n",
    "\n",
    "# Tell matplotlib to put the pie chart together\n",
    "plt.pie(name_adoption_pct, labels=range_type, colors=colors, autopct=\"%1.1f%%\", shadow=True, startangle=280)\n",
    "\n",
    "# Create a title for the pie chart\n",
    "plt.title(\"% Days Until Adoption (Named Animals)\")\n",
    "\n",
    "# Save an image of our chart\n",
    "plt.savefig(\"../Images/% Days Until Adoption (Named Animals).png\")\n",
    "\n",
    "# Show Figure\n",
    "plt.show()"
   ]
  },
  {
   "cell_type": "code",
   "execution_count": null,
   "metadata": {},
   "outputs": [],
   "source": [
    "# Build Pie Chart\n",
    "\n",
    "# Set Pie Chart Variables\n",
    "range_type = [\"7 days\", \"8-14 days\", \"15-30 days\", \"Over 30 days\"]\n",
    "no_name_adoption_pct = [pct_no_name_adopted_7, pct_no_name_adopted_8_14, pct_no_name_adopted_15_30, pct_no_name_adopted_over_30]\n",
    "colors = [\"#E28683\", \"#F9D649\", \"#96CDF6\", \"#F9D649\"]\n",
    "explode = (0.1,0,0)\n",
    "\n",
    "# Tell matplotlib to put the pie chart together\n",
    "plt.pie(no_name_adoption_pct, labels=range_type, colors=colors, autopct=\"%1.1f%%\", shadow=True, startangle=280)\n",
    "\n",
    "# Create a title for the pie chart\n",
    "plt.title(\"% Days Until Adoption (Non-Named Animals)\")\n",
    "\n",
    "# Save an image of our chart\n",
    "plt.savefig(\"../Images/% Days Until Adoption (Non-Named Animals).png\")\n",
    "\n",
    "# Show Figure\n",
    "plt.show()"
   ]
  },
  {
   "cell_type": "code",
   "execution_count": null,
   "metadata": {},
   "outputs": [],
   "source": [
    "# Build Pie Chart\n",
    "\n",
    "# Set Pie Chart Variables\n",
    "no_name_adoption_chart = [no_name_per_capita_transfer, no_name_per_capita_adopted, no_name_per_capita_return_to_owner]\n",
    "x_axis = np.arange(len(no_name_adoption_chart))\n",
    "plt.bar(x_axis, no_name_adoption_chart, color='b', alpha=0.5, align=\"center\")\n",
    "tick_locations = [value for value in x_axis]\n",
    "plt.xticks(tick_locations, [\"Transfered\", \"Adopted\", \"Returned To Owner\"])\n",
    "plt.title(\"Outcomes Per 100 Unnamed Animals\")\n",
    "plt.xlabel(\"Outcomes\")\n",
    "plt.ylabel(\"Number of Occurances\")\n",
    "\n",
    "# Save an image of our chart\n",
    "plt.savefig(\"../Images/Adoption Per Capita (Named Animals).png\")\n",
    "\n",
    "# Show Figure\n",
    "plt.show()"
   ]
  },
  {
   "cell_type": "code",
   "execution_count": null,
   "metadata": {},
   "outputs": [],
   "source": [
    "import matplotlib.patches as mpatches\n",
    "\n",
    "#Build Bar Chart\n",
    "\n",
    "# Values of each group\n",
    "no_name_chart = [no_name_per_capita_transfer, no_name_per_capita_adopted, no_name_per_capita_return_to_owner]\n",
    "name_chart = [name_per_capita_transfer, name_per_capita_adopted, name_per_capita_return_to_owner]\n",
    "\n",
    "tick_locations = [1, 2, 3]\n",
    "\n",
    "# Create brown bars\n",
    "plt.bar(tick_locations, no_name_chart, color='#217fd1', alpha=0.5, align=\"center\")\n",
    "\n",
    "# Create brown bars\n",
    "plt.bar(tick_locations, name_chart, bottom=no_name_chart, color='#21d1b3', alpha=0.5, align=\"center\")\n",
    "\n",
    "# Create green bars (middle), on top of the firs ones\n",
    "#plt.bar(x_axis, name_chart, bottom=no_name_chart, color='#21d1b3', width=barWidth)\n",
    "# Create green bars (top)\n",
    "#plt.bar(x_axis, bars3, bottom=bars, color='#2d7f5e', edgecolor='white', width=barWidth)\n",
    "\n",
    "\n",
    "#combined_adoption_chart = [no_name_per_capita_transfer, name_per_capita_transfer, no_name_per_capita_adopted, name_per_capita_adopted, no_name_per_capita_return_to_owner, name_per_capita_return_to_owner]\n",
    "x_axis = np.arange(len(combined_adoption_chart))\n",
    "#plt.bar(x_axis, combined_adoption_chart, color=['#d9e0df', '#d9e0df', '#217fd1', '#21d1b3', '#d9e0df', '#d9e0df'], alpha=0.5, align=\"center\")\n",
    "#tick_locations = [value for value in x_axis]\n",
    "\n",
    "#barlist=plt.bar([no_name_per_capita_transfer, name_per_capita_transfer, no_name_per_capita_adopted, name_per_capita_adopted, no_name_per_capita_return_to_owner, name_per_capita_return_to_owner])\n",
    "#barlist[0].set_color('#F9D649')\n",
    "\n",
    "plt.xticks(tick_locations, [\"Transfered\", \"Adopted\", \"Returned\"], rotation=45)\n",
    "plt.title(\"Outcomes Per 100 Animals\")\n",
    "plt.xlabel(\"Outcomes\")\n",
    "plt.ylabel(\"Number of Occurances\")\n",
    "\n",
    "# Defining the legends values\n",
    "#plt.legend((name_per_capita_transfer, no_name_per_capita_transfer), ('Named', 'Unnamed'), loc=\"best\")\n",
    "\n",
    "red_patch = mpatches.Patch(color='#217fd1', label='Unnamed')\n",
    "plt.legend(handles=[red_patch])\n",
    "\n",
    "blue_patch = mpatches.Patch(color='#21d1b3', label='Named')\n",
    "plt.legend(handles=[blue_patch, red_patch])\n",
    "\n",
    "# Save an image of our chart\n",
    "plt.savefig(\"../Images/Adoption Per Capita (Combined).png\")\n",
    "\n",
    "# Show Figure\n",
    "plt.show()\n",
    "\n"
   ]
  },
  {
   "cell_type": "code",
   "execution_count": null,
   "metadata": {},
   "outputs": [],
   "source": [
    "# set width of bar\n",
    "barWidth = 0.25\n",
    " \n",
    "# set height of bar\n",
    "no_name_chart = [no_name_per_capita_transfer, no_name_per_capita_adopted, no_name_per_capita_return_to_owner]\n",
    "name_chart = [name_per_capita_transfer, name_per_capita_adopted, name_per_capita_return_to_owner]\n",
    "\n",
    "# Set position of bar on X axis\n",
    "r1 = np.arange(len(no_name_chart))\n",
    "r2 = [x + barWidth for x in r1]\n",
    "#r2 = [x + barWidth for x in r1]\n",
    "\n",
    "#tick_locations = [0, 1, 2]\n",
    " \n",
    "# Make the plot\n",
    "plt.bar(r1, no_name_chart, color='#0414f2', width=barWidth)\n",
    "plt.bar(r2, name_chart, color='#14c603', width=barWidth)\n",
    " \n",
    "# Add xticks on the middle of the group bars\n",
    "#plt.xlabel('Outcomes', fontweight='bold')\n",
    "plt.xticks([r + barWidth for r in range(len(no_name_chart))], ['Transfered', 'Adopted', 'Return To owner'])\n",
    "\n",
    "#plt.xticks(tick_locations, [\"Transfered\", \"Adopted\", \"Returned To Owner\"])\n",
    "plt.title(\"Outcomes Per 100 Animals\", fontweight='bold')\n",
    "plt.xlabel(\"Outcomes\", fontweight='bold')\n",
    "plt.ylabel(\"Number of Occurances\", fontweight='bold')\n",
    "\n",
    "\n",
    "\n",
    "red_patch = mpatches.Patch(color='#217fd1', label='Unnamed')\n",
    "plt.legend(handles=[red_patch])\n",
    "\n",
    "blue_patch = mpatches.Patch(color='#21d1b3', label='Named')\n",
    "plt.legend(handles=[blue_patch, red_patch])\n",
    "\n",
    "plt.show()\n"
   ]
  },
  {
   "cell_type": "code",
   "execution_count": null,
   "metadata": {
    "scrolled": false
   },
   "outputs": [],
   "source": [
    "# set width of bar\n",
    "barWidth = 0.25\n",
    " \n",
    "# set height of bar\n",
    "#bars1 = [12, 30, 1, 8, 22]\n",
    "#bars2 = [28, 6, 16, 5, 10]\n",
    "#bars3 = [29, 3, 24, 25, 17]\n",
    "\n",
    "# set height of bar\n",
    "no_name_chart = [no_name_per_capita_transfer, no_name_per_capita_adopted, no_name_per_capita_return_to_owner]\n",
    "name_chart = [name_per_capita_transfer, name_per_capita_adopted, name_per_capita_return_to_owner]\n",
    "\n",
    "ind = np.arange(len(no_name_chart))\n",
    "\n",
    "# Set position of bar on X axis\n",
    "#r1 = np.arange(len(bars1))\n",
    "#r2 = [x + barWidth for x in r1]\n",
    "#r3 = [x + barWidth for x in r2]\n",
    "\n",
    "r1 = np.arange(len(no_name_chart))\n",
    "r2 = [x + barWidth for x in r1]\n",
    "#r3 = [x + barWidth for x in r2]\n",
    " \n",
    "# Make the plot\n",
    "#plt.bar(r1, bars1, color='#7f6d5f', width=barWidth, edgecolor='white', label='var1')\n",
    "#plt.bar(r2, bars2, color='#557f2d', width=barWidth, edgecolor='white', label='var2')\n",
    "#plt.bar(r3, bars3, color='#2d7f5e', width=barWidth, edgecolor='white', label='var3')\n",
    "\n",
    "plt.bar(r1, no_name_chart, color='#217fd1', width=barWidth, edgecolor='white', label='Unnamed')\n",
    "plt.bar(r2, name_chart, color='#21d1b3', width=barWidth, edgecolor='white', label='Named')\n",
    "#plt.bar(r3, bars3, color='#2d7f5e', width=barWidth, edgecolor='white', label='var3')\n",
    "\n",
    "\n",
    "# Add xticks on the middle of the group bars\n",
    "#plt.xlabel('Outcomes', fontweight='bold')\n",
    "#plt.xticks([r + barWidth for r in range(len(no_name_chart))], ['Transfered', 'Adopted', 'Returned To Owner'])\n",
    "\n",
    "plt.ylabel('Number of Occurances')\n",
    "plt.xlabel('Outcomes')\n",
    "plt.title('Outcomes Per 100 Animals')\n",
    "plt.xticks(ind)\n",
    "plt.xticklabels(('Transfered', 'Adopted', 'Returned To Owner'))\n",
    "plt.legend()\n",
    "\n",
    "#plt.title(\"Outcomes Per 100 Animals\", fontweight='bold')\n",
    "#plt.xlabel(\"Outcomes\", fontweight='bold')\n",
    "#plt.ylabel(\"Number of Occurances\", fontweight='bold')\n",
    "\n",
    "# Create legend & Show graphic\n",
    "#plt.legend()\n",
    "plt.show()\n"
   ]
  },
  {
   "cell_type": "code",
   "execution_count": null,
   "metadata": {},
   "outputs": [],
   "source": [
    "# set width of bar\n",
    "barWidth = 0.25\n",
    " \n",
    "# set height of bar\n",
    "transfered_chart = [no_name_per_capita_transfer, name_per_capita_transfer]\n",
    "adopted_chart = [no_name_per_capita_adopted, name_per_capita_adopted]\n",
    "return_to_owner_chart = [no_name_per_capita_return_to_owner, name_per_capita_return_to_owner]\n",
    " \n",
    "# Set position of bar on X axis\n",
    "r1 = np.arange(len(transfered_chart))\n",
    "r2 = [x + barWidth for x in r1]\n",
    "r3 = [x + barWidth for x in r2]\n",
    " \n",
    "# Make the plot\n",
    "plt.bar(r1, transfered_chart, color='#217fd1', width=barWidth, edgecolor='white', label='Transfered')\n",
    "plt.bar(r2, adopted_chart, color='#ed9b04', width=barWidth, edgecolor='white', label='Adopted')\n",
    "plt.bar(r3, return_to_owner_chart, color='#21d1b3', width=barWidth, edgecolor='white', label='Returned To Owner')\n",
    "\n",
    "#21d1b3\n",
    "\n",
    "# Add xticks on the middle of the group bars\n",
    "plt.xlabel('Outcomes', fontweight='bold')\n",
    "plt.xticks([r + barWidth for r in range(len(transfered_chart))], ['Unnamed', 'Named'])\n",
    "plt.ylabel('Number of Occurances', fontweight='bold')\n",
    "plt.title('Outcomes Per 100 Animals', fontweight='bold')\n",
    "\n",
    "# Create legend & Show graphic\n",
    "plt.legend()\n",
    "plt.grid(axis='y', alpha=.20)\n",
    "plt.savefig(\"Outcomes Unnamed Vs. Named.png\", dpi=1020)\n",
    "plt.show()"
   ]
  },
  {
   "cell_type": "code",
   "execution_count": null,
   "metadata": {},
   "outputs": [],
   "source": [
    "# set width of bar\n",
    "barWidth = 0.25\n",
    " \n",
    "# set height of bar\n",
    "per_capita_non_pit_bull = [all_non_pit_bull_return_per_capita]\n",
    "per_capita_pit_bull = [all_pit_bull_return_per_capita]\n",
    "#return_to_owner_chart = [no_name_per_capita_return_to_owner, name_per_capita_return_to_owner]\n",
    " \n",
    "# Set position of bar on X axis\n",
    "r1 = np.arange(len(all_non_pit_bull_return_per_capita))\n",
    "r2 = [x + barWidth for x in r1]\n",
    "#r3 = [x + barWidth for x in r2]\n",
    " \n",
    "# Make the plot\n",
    "plt.bar(r1, per_capita_non_pit_bull, color='#217fd1', width=barWidth, edgecolor='white', label='Transfered')\n",
    "plt.bar(r2, per_capita_pit_bull, color='#ed9b04', width=barWidth, edgecolor='white', label='Adopted')\n",
    "#plt.bar(r3, return_to_owner_chart, color='#21d1b3', width=barWidth, edgecolor='white', label='Returned To Owner')\n",
    "\n",
    "#21d1b3\n",
    "\n",
    "# Add xticks on the middle of the group bars\n",
    "plt.xlabel('Outcomes', fontweight='bold')\n",
    "plt.xticks([r + barWidth for r in range(len(per_capita_non_pit_bull))], ['Owner Surrender'])\n",
    "plt.ylabel('Number of Occurances', fontweight='bold')\n",
    "plt.title('Outcomes Per 100 Animals', fontweight='bold')\n",
    "# Create legend & Show graphic\n",
    "plt.legend()\n",
    "plt.grid(axis='y', alpha=.20)\n",
    "plt.savefig(\"Outcomes Pitbull vs. Non-Pitbull.png\", dpi=1020)\n",
    "plt.show()"
   ]
  }
 ],
 "metadata": {
  "kernelspec": {
   "display_name": "Python [default]",
   "language": "python",
   "name": "python3"
  },
  "language_info": {
   "codemirror_mode": {
    "name": "ipython",
    "version": 3
   },
   "file_extension": ".py",
   "mimetype": "text/x-python",
   "name": "python",
   "nbconvert_exporter": "python",
   "pygments_lexer": "ipython3",
   "version": "3.6.5"
  }
 },
 "nbformat": 4,
 "nbformat_minor": 2
}
