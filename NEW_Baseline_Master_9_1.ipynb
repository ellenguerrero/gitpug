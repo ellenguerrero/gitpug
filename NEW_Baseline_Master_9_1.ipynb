{
 "cells": [
  {
   "cell_type": "code",
   "execution_count": null,
   "metadata": {},
   "outputs": [],
   "source": [
    "# Import Dependencies\n",
    "import pandas as pd\n",
    "import numpy as np\n",
    "from datetime import datetime\n",
    "\n",
    "# Read the CSV into a Pandas DataFrame\n",
    "intake_csv = \"Resources/Austin_Animal_Center_Intakes.csv\"\n",
    "outcome_csv= \"Resources/Austin_Animal_Center_Outcomes.csv\"\n",
    "\n",
    "# Read the CSV into a Pandas DataFrame and convert to datetime64\n",
    "\n",
    "intake_df = pd.read_csv(intake_csv, index_col='Animal ID', parse_dates=[\"DateTime\", \"MonthYear\"])\n",
    "outcome_df = pd.read_csv(outcome_csv, index_col='Animal ID', parse_dates=[\"DateTime\", \"MonthYear\"])\n",
    "\n",
    "#update intake file with column reflecting number of intakes\n",
    "#and select outcomes for animals with 1 or 2 intakes\n",
    "intake_counts=intake_df.groupby(['Animal ID']).size().reset_index(name='counts')\n",
    "intake_df=pd.merge(intake_df, intake_counts, on=\"Animal ID\", how=\"outer\")\n",
    "reduced_intake_df=intake_df.query('counts <3')\n",
    "\n",
    "#update outtake file with column reflecting number of intakes per animal\n",
    "#and select outcomes for animals with 1 or 2 intakes\n",
    "outcome_df=pd.merge(outcome_df, intake_counts, on=\"Animal ID\", how=\"left\")\n",
    "reduced_outcome_df=outcome_df.query('counts <3')\n",
    "#reduced_outcome_df=reduced_outcome_df.drop(columns=['counts'])\n",
    "\n"
   ]
  },
  {
   "cell_type": "code",
   "execution_count": null,
   "metadata": {},
   "outputs": [],
   "source": [
    "outcome_df"
   ]
  },
  {
   "cell_type": "code",
   "execution_count": null,
   "metadata": {},
   "outputs": [],
   "source": [
    "reduced_outcome_df"
   ]
  },
  {
   "cell_type": "code",
   "execution_count": null,
   "metadata": {},
   "outputs": [],
   "source": [
    "#now take single intake animals and match with any available outcome\n",
    "reduced_intake_only_one_df=reduced_intake_df.query('counts <2')\n",
    "#reduced_intake_only_one_df=reduced_intake_only_one_df.add_prefix('IN_')\n",
    "reduced_outcome_df=reduced_outcome_df.add_prefix(\"OUT_\")\n",
    "\n",
    "reduced_intake_only_one_df=reduced_intake_only_one_df.rename(index=str,columns={\"IN_Animal ID\": \"Animal ID\"})\n",
    "reduced_outcome_df=reduced_outcome_df.rename(index=str,columns={\"OUT_Animal ID\": \"Animal ID\"})\n",
    "one_intake_merged=pd.merge(reduced_intake_only_one_df, reduced_outcome_df, on=\"Animal ID\", how=\"left\")"
   ]
  },
  {
   "cell_type": "code",
   "execution_count": null,
   "metadata": {},
   "outputs": [],
   "source": [
    "one_intake_merged[\"num_of_intakes_for_ID\"]=1"
   ]
  },
  {
   "cell_type": "code",
   "execution_count": null,
   "metadata": {},
   "outputs": [],
   "source": [
    "#now take two intake animals and figure out order of intakes and outcomes\n",
    "reduced_intake_two_df=reduced_intake_df.query('counts !=1')\n"
   ]
  },
  {
   "cell_type": "code",
   "execution_count": null,
   "metadata": {},
   "outputs": [],
   "source": [
    "reduced_intake_two_first_date_lookup_df=reduced_intake_two_df.groupby('Animal ID').aggregate(['min']).reset_index()\n",
    "reduced_intake_two_first_date_lookup_df = reduced_intake_two_first_date_lookup_df[['Animal ID','DateTime']]\n",
    "reduced_intake_two_first_date_lookup_df[\"stay_number\"]=1\n",
    "reduced_intake_two_first_date_lookup_df.columns = reduced_intake_two_first_date_lookup_df.columns.droplevel(1)\n",
    "\n",
    "\n",
    "reduced_intake_two_first_date_lookup_df.head()"
   ]
  },
  {
   "cell_type": "code",
   "execution_count": null,
   "metadata": {},
   "outputs": [],
   "source": [
    "reduced_intake_two_second_date_lookup_df=reduced_intake_two_df.groupby('Animal ID').aggregate(['max']).reset_index()\n",
    "reduced_intake_two_second_date_lookup_df = reduced_intake_two_second_date_lookup_df[['Animal ID','DateTime']]\n",
    "reduced_intake_two_second_date_lookup_df[\"stay_number\"]=2\n",
    "reduced_intake_two_second_date_lookup_df.columns = reduced_intake_two_second_date_lookup_df.columns.droplevel(1)"
   ]
  },
  {
   "cell_type": "code",
   "execution_count": null,
   "metadata": {},
   "outputs": [],
   "source": [
    "reduced_intake_two_second_date_lookup_df.head()"
   ]
  },
  {
   "cell_type": "code",
   "execution_count": null,
   "metadata": {},
   "outputs": [],
   "source": [
    "multiple_intakes_order_lookup = reduced_intake_two_first_date_lookup_df.append(reduced_intake_two_second_date_lookup_df)"
   ]
  },
  {
   "cell_type": "code",
   "execution_count": null,
   "metadata": {},
   "outputs": [],
   "source": [
    "#multiple_intakes_order_lookup"
   ]
  },
  {
   "cell_type": "code",
   "execution_count": null,
   "metadata": {},
   "outputs": [],
   "source": [
    "#reduced_intake_two_df\n",
    "\n",
    "reduced_intake_two_df=pd.merge(reduced_intake_two_df, multiple_intakes_order_lookup, on=[\"Animal ID\",\"DateTime\"], how=\"left\")\n",
    "#reduced_intake_two_df"
   ]
  },
  {
   "cell_type": "code",
   "execution_count": null,
   "metadata": {},
   "outputs": [],
   "source": [
    "#look at outcome records for the two-intake group and determine order"
   ]
  },
  {
   "cell_type": "code",
   "execution_count": null,
   "metadata": {},
   "outputs": [],
   "source": [
    "#reduced_outcome_df"
   ]
  },
  {
   "cell_type": "code",
   "execution_count": null,
   "metadata": {},
   "outputs": [],
   "source": [
    "\n",
    "reduced_outcome_two_first_date_lookup_df=reduced_outcome_df.groupby('Animal ID').aggregate(['min']).reset_index()\n",
    "reduced_outcome_two_first_date_lookup_df = reduced_outcome_two_first_date_lookup_df[['Animal ID','OUT_DateTime']]\n",
    "reduced_outcome_two_first_date_lookup_df[\"stay_number\"]=1\n",
    "reduced_outcome_two_first_date_lookup_df.columns = reduced_outcome_two_first_date_lookup_df.columns.droplevel(1)\n",
    "\n",
    "\n",
    "reduced_outcome_two_first_date_lookup_df.head()"
   ]
  },
  {
   "cell_type": "code",
   "execution_count": null,
   "metadata": {},
   "outputs": [],
   "source": [
    "reduced_outcome_df=pd.merge(reduced_outcome_df, reduced_outcome_two_first_date_lookup_df, on=[\"Animal ID\",\"OUT_DateTime\"], how=\"left\")\n",
    "\n",
    "reduced_outcome_df"
   ]
  },
  {
   "cell_type": "code",
   "execution_count": null,
   "metadata": {},
   "outputs": [],
   "source": [
    "reduced_outcome_df['stay_number']=reduced_outcome_df['stay_number'].fillna(2)\n",
    "#reduced_outcome_df"
   ]
  },
  {
   "cell_type": "code",
   "execution_count": null,
   "metadata": {},
   "outputs": [],
   "source": [
    "#reduced_intake_two_df=reduced_intake_two_df.add_prefix('IN_')\n",
    "reduced_intake_two_df=reduced_intake_two_df.rename(index=str,columns={\"IN_Animal ID\": \"Animal ID\",\"IN_stay_number\":\"stay_number\"})\n",
    "reduced_intake_two_df"
   ]
  },
  {
   "cell_type": "code",
   "execution_count": null,
   "metadata": {},
   "outputs": [],
   "source": [
    "#merge the multiple intake with coressponsing outcomes - will not yield two outcomes for animals still in residence\n",
    "two_intakes_merged=pd.merge(reduced_intake_two_df, reduced_outcome_df, on=[\"Animal ID\", \"stay_number\"], how=\"left\")\n",
    "two_intakes_merged[\"num_of_intakes_for_ID\"]=\"2\""
   ]
  },
  {
   "cell_type": "code",
   "execution_count": null,
   "metadata": {},
   "outputs": [],
   "source": [
    "two_intakes_merged\n"
   ]
  },
  {
   "cell_type": "code",
   "execution_count": null,
   "metadata": {},
   "outputs": [],
   "source": []
  },
  {
   "cell_type": "code",
   "execution_count": null,
   "metadata": {},
   "outputs": [],
   "source": [
    "one_intake_merged"
   ]
  },
  {
   "cell_type": "code",
   "execution_count": null,
   "metadata": {},
   "outputs": [],
   "source": [
    "working_base_master=one_intake_merged.append(two_intakes_merged, ignore_index=True)"
   ]
  },
  {
   "cell_type": "code",
   "execution_count": null,
   "metadata": {
    "scrolled": false
   },
   "outputs": [],
   "source": [
    "working_base_master"
   ]
  },
  {
   "cell_type": "code",
   "execution_count": null,
   "metadata": {},
   "outputs": [],
   "source": [
    "working_base_master['time_to_exit'] = working_base_master['OUT_DateTime']-working_base_master['DateTime']"
   ]
  },
  {
   "cell_type": "code",
   "execution_count": null,
   "metadata": {},
   "outputs": [],
   "source": [
    "working_base_master['time_to_exit']=working_base_master['time_to_exit'] / np.timedelta64(1, 'D')"
   ]
  },
  {
   "cell_type": "code",
   "execution_count": null,
   "metadata": {},
   "outputs": [],
   "source": [
    "working_base_master['time_to_exit'].dtype\n"
   ]
  },
  {
   "cell_type": "code",
   "execution_count": null,
   "metadata": {},
   "outputs": [],
   "source": [
    "working_base_master"
   ]
  },
  {
   "cell_type": "code",
   "execution_count": null,
   "metadata": {},
   "outputs": [],
   "source": [
    "working_base_master['time_to_exit']=pd.to_datetime(working_base_master['time_to_exit'])\n",
    "working_base_master.dtypes\n"
   ]
  },
  {
   "cell_type": "code",
   "execution_count": null,
   "metadata": {},
   "outputs": [],
   "source": []
  },
  {
   "cell_type": "code",
   "execution_count": null,
   "metadata": {},
   "outputs": [],
   "source": []
  },
  {
   "cell_type": "code",
   "execution_count": null,
   "metadata": {},
   "outputs": [],
   "source": []
  },
  {
   "cell_type": "code",
   "execution_count": null,
   "metadata": {},
   "outputs": [],
   "source": []
  },
  {
   "cell_type": "code",
   "execution_count": null,
   "metadata": {},
   "outputs": [],
   "source": []
  },
  {
   "cell_type": "code",
   "execution_count": null,
   "metadata": {},
   "outputs": [],
   "source": []
  },
  {
   "cell_type": "code",
   "execution_count": null,
   "metadata": {},
   "outputs": [],
   "source": []
  },
  {
   "cell_type": "code",
   "execution_count": null,
   "metadata": {},
   "outputs": [],
   "source": []
  },
  {
   "cell_type": "code",
   "execution_count": null,
   "metadata": {},
   "outputs": [],
   "source": []
  },
  {
   "cell_type": "code",
   "execution_count": null,
   "metadata": {},
   "outputs": [],
   "source": []
  },
  {
   "cell_type": "code",
   "execution_count": null,
   "metadata": {},
   "outputs": [],
   "source": [
    "#working_base_master\n",
    "working_base_master.to_csv('working_base_master.csv')"
   ]
  },
  {
   "cell_type": "code",
   "execution_count": null,
   "metadata": {},
   "outputs": [],
   "source": []
  },
  {
   "cell_type": "code",
   "execution_count": null,
   "metadata": {},
   "outputs": [],
   "source": []
  }
 ],
 "metadata": {
  "kernelspec": {
   "display_name": "Python 3",
   "language": "python",
   "name": "python3"
  },
  "language_info": {
   "codemirror_mode": {
    "name": "ipython",
    "version": 3
   },
   "file_extension": ".py",
   "mimetype": "text/x-python",
   "name": "python",
   "nbconvert_exporter": "python",
   "pygments_lexer": "ipython3",
   "version": "3.6.5"
  }
 },
 "nbformat": 4,
 "nbformat_minor": 2
}
